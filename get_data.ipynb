{
 "cells": [
  {
   "cell_type": "code",
   "execution_count": 6,
   "metadata": {},
   "outputs": [],
   "source": [
    "from spotipy.oauth2 import SpotifyClientCredentials\n",
    "import pandas as pd\n",
    "import spotipy"
   ]
  },
  {
   "cell_type": "code",
   "execution_count": 7,
   "metadata": {},
   "outputs": [],
   "source": [
    "# Get the client ID and client secret from the Spotify Developer site\n",
    "CLIENT_ID = ''\n",
    "CLIENT_SECRET = ''\n",
    "AUTH_URL = 'https://accounts.spotify.com/api/token'"
   ]
  },
  {
   "cell_type": "code",
   "execution_count": 8,
   "metadata": {},
   "outputs": [],
   "source": [
    "# construct the credentials object\n",
    "client_credentials_manager = SpotifyClientCredentials(client_id=CLIENT_ID, client_secret=CLIENT_SECRET)\n",
    "sp = spotipy.Spotify(client_credentials_manager=client_credentials_manager)"
   ]
  },
  {
   "cell_type": "code",
   "execution_count": null,
   "metadata": {},
   "outputs": [],
   "source": [
    "# Get the top 1000 tracks from query 'year:2022'\n",
    "artist_name = []\n",
    "track_name = []\n",
    "track_popularity = []\n",
    "artist_id = []\n",
    "track_id = []\n",
    "for i in range(0,1000,50):\n",
    "    track_results = sp.search(q='year:2022', type='track', limit=50, offset=i)\n",
    "    for i, t in enumerate(track_results['tracks']['items']):\n",
    "        artist_name.append(t['artists'][0]['name'])\n",
    "        artist_id.append(t['artists'][0]['id'])\n",
    "        track_name.append(t['name'])\n",
    "        track_id.append(t['id'])\n",
    "        track_popularity.append(t['popularity'])"
   ]
  },
  {
   "cell_type": "code",
   "execution_count": 11,
   "metadata": {},
   "outputs": [
    {
     "name": "stdout",
     "output_type": "stream",
     "text": [
      "(1000, 5)\n"
     ]
    },
    {
     "data": {
      "text/html": [
       "<div>\n",
       "<style scoped>\n",
       "    .dataframe tbody tr th:only-of-type {\n",
       "        vertical-align: middle;\n",
       "    }\n",
       "\n",
       "    .dataframe tbody tr th {\n",
       "        vertical-align: top;\n",
       "    }\n",
       "\n",
       "    .dataframe thead th {\n",
       "        text-align: right;\n",
       "    }\n",
       "</style>\n",
       "<table border=\"1\" class=\"dataframe\">\n",
       "  <thead>\n",
       "    <tr style=\"text-align: right;\">\n",
       "      <th></th>\n",
       "      <th>artist_name</th>\n",
       "      <th>track_name</th>\n",
       "      <th>track_id</th>\n",
       "      <th>track_popularity</th>\n",
       "      <th>artist_id</th>\n",
       "    </tr>\n",
       "  </thead>\n",
       "  <tbody>\n",
       "    <tr>\n",
       "      <th>0</th>\n",
       "      <td>Joji</td>\n",
       "      <td>Glimpse of Us</td>\n",
       "      <td>6xGruZOHLs39ZbVccQTuPZ</td>\n",
       "      <td>99</td>\n",
       "      <td>3MZsBdqDrRTJihTHQrO6Dq</td>\n",
       "    </tr>\n",
       "    <tr>\n",
       "      <th>1</th>\n",
       "      <td>Ish Kevin</td>\n",
       "      <td>My Year (2022)</td>\n",
       "      <td>4eHkG6yWQ4pD0zqVkV0R5a</td>\n",
       "      <td>22</td>\n",
       "      <td>27rjDVGfZG4eorQwrZt2ZD</td>\n",
       "    </tr>\n",
       "    <tr>\n",
       "      <th>2</th>\n",
       "      <td>Alonestar</td>\n",
       "      <td>COOKING UP</td>\n",
       "      <td>5D87MkcNRiZ4AsVMwxRrC1</td>\n",
       "      <td>32</td>\n",
       "      <td>1kwi1Q7X4jPTkHTgayxKhS</td>\n",
       "    </tr>\n",
       "    <tr>\n",
       "      <th>3</th>\n",
       "      <td>Bee Gees</td>\n",
       "      <td>Night Fever - From \"Saturday Night Fever\" Soun...</td>\n",
       "      <td>0eRHyLCekRpdkuuFu237b7</td>\n",
       "      <td>0</td>\n",
       "      <td>1LZEQNv7sE11VDY3SdxQeN</td>\n",
       "    </tr>\n",
       "    <tr>\n",
       "      <th>4</th>\n",
       "      <td>Bad Bunny</td>\n",
       "      <td>Me Porto Bonito</td>\n",
       "      <td>6Sq7ltF9Qa7SNFBsV5Cogx</td>\n",
       "      <td>100</td>\n",
       "      <td>4q3ewBCX7sLwd24euuV69X</td>\n",
       "    </tr>\n",
       "  </tbody>\n",
       "</table>\n",
       "</div>"
      ],
      "text/plain": [
       "  artist_name                                         track_name  \\\n",
       "0        Joji                                      Glimpse of Us   \n",
       "1   Ish Kevin                                     My Year (2022)   \n",
       "2   Alonestar                                         COOKING UP   \n",
       "3    Bee Gees  Night Fever - From \"Saturday Night Fever\" Soun...   \n",
       "4   Bad Bunny                                    Me Porto Bonito   \n",
       "\n",
       "                 track_id  track_popularity               artist_id  \n",
       "0  6xGruZOHLs39ZbVccQTuPZ                99  3MZsBdqDrRTJihTHQrO6Dq  \n",
       "1  4eHkG6yWQ4pD0zqVkV0R5a                22  27rjDVGfZG4eorQwrZt2ZD  \n",
       "2  5D87MkcNRiZ4AsVMwxRrC1                32  1kwi1Q7X4jPTkHTgayxKhS  \n",
       "3  0eRHyLCekRpdkuuFu237b7                 0  1LZEQNv7sE11VDY3SdxQeN  \n",
       "4  6Sq7ltF9Qa7SNFBsV5Cogx               100  4q3ewBCX7sLwd24euuV69X  "
      ]
     },
     "execution_count": 11,
     "metadata": {},
     "output_type": "execute_result"
    }
   ],
   "source": [
    "track_df = pd.DataFrame({'artist_name' : artist_name, 'track_name' : track_name, 'track_id' : track_id, 'track_popularity' : track_popularity, 'artist_id' : artist_id})\n",
    "print(track_df.shape)\n",
    "track_df.head()"
   ]
  },
  {
   "cell_type": "code",
   "execution_count": 13,
   "metadata": {},
   "outputs": [],
   "source": [
    "artist_popularity = []\n",
    "artist_genres = []\n",
    "artist_followers = []\n",
    "for a_id in track_df.artist_id:\n",
    "  artist = sp.artist(a_id)\n",
    "  artist_popularity.append(artist['popularity'])\n",
    "  artist_genres.append(artist['genres'])\n",
    "  artist_followers.append(artist['followers']['total'])"
   ]
  },
  {
   "cell_type": "code",
   "execution_count": 14,
   "metadata": {},
   "outputs": [
    {
     "data": {
      "text/html": [
       "<div>\n",
       "<style scoped>\n",
       "    .dataframe tbody tr th:only-of-type {\n",
       "        vertical-align: middle;\n",
       "    }\n",
       "\n",
       "    .dataframe tbody tr th {\n",
       "        vertical-align: top;\n",
       "    }\n",
       "\n",
       "    .dataframe thead th {\n",
       "        text-align: right;\n",
       "    }\n",
       "</style>\n",
       "<table border=\"1\" class=\"dataframe\">\n",
       "  <thead>\n",
       "    <tr style=\"text-align: right;\">\n",
       "      <th></th>\n",
       "      <th>artist_name</th>\n",
       "      <th>track_name</th>\n",
       "      <th>track_id</th>\n",
       "      <th>track_popularity</th>\n",
       "      <th>artist_id</th>\n",
       "      <th>artist_popularity</th>\n",
       "      <th>artist_genres</th>\n",
       "      <th>artist_followers</th>\n",
       "    </tr>\n",
       "  </thead>\n",
       "  <tbody>\n",
       "    <tr>\n",
       "      <th>0</th>\n",
       "      <td>Joji</td>\n",
       "      <td>Glimpse of Us</td>\n",
       "      <td>6xGruZOHLs39ZbVccQTuPZ</td>\n",
       "      <td>99</td>\n",
       "      <td>3MZsBdqDrRTJihTHQrO6Dq</td>\n",
       "      <td>86</td>\n",
       "      <td>[viral pop]</td>\n",
       "      <td>6481642</td>\n",
       "    </tr>\n",
       "    <tr>\n",
       "      <th>1</th>\n",
       "      <td>Ish Kevin</td>\n",
       "      <td>My Year (2022)</td>\n",
       "      <td>4eHkG6yWQ4pD0zqVkV0R5a</td>\n",
       "      <td>22</td>\n",
       "      <td>27rjDVGfZG4eorQwrZt2ZD</td>\n",
       "      <td>23</td>\n",
       "      <td>[rwandan hip hop]</td>\n",
       "      <td>7033</td>\n",
       "    </tr>\n",
       "    <tr>\n",
       "      <th>2</th>\n",
       "      <td>Alonestar</td>\n",
       "      <td>COOKING UP</td>\n",
       "      <td>5D87MkcNRiZ4AsVMwxRrC1</td>\n",
       "      <td>32</td>\n",
       "      <td>1kwi1Q7X4jPTkHTgayxKhS</td>\n",
       "      <td>49</td>\n",
       "      <td>[]</td>\n",
       "      <td>3912</td>\n",
       "    </tr>\n",
       "    <tr>\n",
       "      <th>3</th>\n",
       "      <td>Bee Gees</td>\n",
       "      <td>Night Fever - From \"Saturday Night Fever\" Soun...</td>\n",
       "      <td>0eRHyLCekRpdkuuFu237b7</td>\n",
       "      <td>0</td>\n",
       "      <td>1LZEQNv7sE11VDY3SdxQeN</td>\n",
       "      <td>75</td>\n",
       "      <td>[disco, mellow gold, soft rock]</td>\n",
       "      <td>5846974</td>\n",
       "    </tr>\n",
       "    <tr>\n",
       "      <th>4</th>\n",
       "      <td>Bad Bunny</td>\n",
       "      <td>Me Porto Bonito</td>\n",
       "      <td>6Sq7ltF9Qa7SNFBsV5Cogx</td>\n",
       "      <td>100</td>\n",
       "      <td>4q3ewBCX7sLwd24euuV69X</td>\n",
       "      <td>100</td>\n",
       "      <td>[latin, reggaeton, trap latino]</td>\n",
       "      <td>51753134</td>\n",
       "    </tr>\n",
       "  </tbody>\n",
       "</table>\n",
       "</div>"
      ],
      "text/plain": [
       "  artist_name                                         track_name  \\\n",
       "0        Joji                                      Glimpse of Us   \n",
       "1   Ish Kevin                                     My Year (2022)   \n",
       "2   Alonestar                                         COOKING UP   \n",
       "3    Bee Gees  Night Fever - From \"Saturday Night Fever\" Soun...   \n",
       "4   Bad Bunny                                    Me Porto Bonito   \n",
       "\n",
       "                 track_id  track_popularity               artist_id  \\\n",
       "0  6xGruZOHLs39ZbVccQTuPZ                99  3MZsBdqDrRTJihTHQrO6Dq   \n",
       "1  4eHkG6yWQ4pD0zqVkV0R5a                22  27rjDVGfZG4eorQwrZt2ZD   \n",
       "2  5D87MkcNRiZ4AsVMwxRrC1                32  1kwi1Q7X4jPTkHTgayxKhS   \n",
       "3  0eRHyLCekRpdkuuFu237b7                 0  1LZEQNv7sE11VDY3SdxQeN   \n",
       "4  6Sq7ltF9Qa7SNFBsV5Cogx               100  4q3ewBCX7sLwd24euuV69X   \n",
       "\n",
       "   artist_popularity                    artist_genres  artist_followers  \n",
       "0                 86                      [viral pop]           6481642  \n",
       "1                 23                [rwandan hip hop]              7033  \n",
       "2                 49                               []              3912  \n",
       "3                 75  [disco, mellow gold, soft rock]           5846974  \n",
       "4                100  [latin, reggaeton, trap latino]          51753134  "
      ]
     },
     "execution_count": 14,
     "metadata": {},
     "output_type": "execute_result"
    }
   ],
   "source": [
    "track_df = track_df.assign(artist_popularity=artist_popularity, artist_genres=artist_genres, artist_followers=artist_followers)\n",
    "track_df.head()"
   ]
  },
  {
   "cell_type": "code",
   "execution_count": 18,
   "metadata": {},
   "outputs": [],
   "source": [
    "track_features = []\n",
    "for t_id in track_df['track_id']:\n",
    "  af = sp.audio_features(t_id)\n",
    "  track_features.append(af)"
   ]
  },
  {
   "cell_type": "code",
   "execution_count": 19,
   "metadata": {},
   "outputs": [
    {
     "name": "stdout",
     "output_type": "stream",
     "text": [
      "dict_keys(['danceability', 'energy', 'key', 'loudness', 'mode', 'speechiness', 'acousticness', 'instrumentalness', 'liveness', 'valence', 'tempo', 'type', 'id', 'uri', 'track_href', 'analysis_url', 'duration_ms', 'time_signature'])\n"
     ]
    }
   ],
   "source": [
    "print(track_features[0][0].keys())\n"
   ]
  },
  {
   "cell_type": "code",
   "execution_count": 20,
   "metadata": {},
   "outputs": [],
   "source": [
    "tf_df = pd.DataFrame(columns = ['danceability', 'energy', 'key', 'loudness', 'mode', 'speechiness', 'acousticness', 'instrumentalness', 'liveness', 'valence', 'tempo', 'type', 'id', 'uri', 'track_href', 'analysis_url', 'duration_ms', 'time_signature'])"
   ]
  },
  {
   "cell_type": "code",
   "execution_count": null,
   "metadata": {},
   "outputs": [],
   "source": [
    "for item in track_features:\n",
    "  for feat in item:\n",
    "    tf_df = tf_df.append(feat, ignore_index=True)"
   ]
  },
  {
   "cell_type": "code",
   "execution_count": 29,
   "metadata": {},
   "outputs": [
    {
     "data": {
      "text/html": [
       "<div>\n",
       "<style scoped>\n",
       "    .dataframe tbody tr th:only-of-type {\n",
       "        vertical-align: middle;\n",
       "    }\n",
       "\n",
       "    .dataframe tbody tr th {\n",
       "        vertical-align: top;\n",
       "    }\n",
       "\n",
       "    .dataframe thead th {\n",
       "        text-align: right;\n",
       "    }\n",
       "</style>\n",
       "<table border=\"1\" class=\"dataframe\">\n",
       "  <thead>\n",
       "    <tr style=\"text-align: right;\">\n",
       "      <th></th>\n",
       "      <th>danceability</th>\n",
       "      <th>energy</th>\n",
       "      <th>loudness</th>\n",
       "      <th>speechiness</th>\n",
       "      <th>acousticness</th>\n",
       "      <th>instrumentalness</th>\n",
       "      <th>liveness</th>\n",
       "      <th>valence</th>\n",
       "      <th>tempo</th>\n",
       "      <th>id</th>\n",
       "      <th>duration_ms</th>\n",
       "      <th>time_signature</th>\n",
       "    </tr>\n",
       "  </thead>\n",
       "  <tbody>\n",
       "    <tr>\n",
       "      <th>0</th>\n",
       "      <td>0.440</td>\n",
       "      <td>0.317</td>\n",
       "      <td>-9.258</td>\n",
       "      <td>0.0531</td>\n",
       "      <td>0.8910</td>\n",
       "      <td>0.000005</td>\n",
       "      <td>0.1410</td>\n",
       "      <td>0.268</td>\n",
       "      <td>169.914</td>\n",
       "      <td>6xGruZOHLs39ZbVccQTuPZ</td>\n",
       "      <td>233456</td>\n",
       "      <td>3</td>\n",
       "    </tr>\n",
       "    <tr>\n",
       "      <th>1</th>\n",
       "      <td>0.521</td>\n",
       "      <td>0.683</td>\n",
       "      <td>-6.240</td>\n",
       "      <td>0.5010</td>\n",
       "      <td>0.1590</td>\n",
       "      <td>0.000000</td>\n",
       "      <td>0.1870</td>\n",
       "      <td>0.737</td>\n",
       "      <td>139.439</td>\n",
       "      <td>4eHkG6yWQ4pD0zqVkV0R5a</td>\n",
       "      <td>161808</td>\n",
       "      <td>3</td>\n",
       "    </tr>\n",
       "    <tr>\n",
       "      <th>2</th>\n",
       "      <td>0.544</td>\n",
       "      <td>0.792</td>\n",
       "      <td>-8.730</td>\n",
       "      <td>0.3430</td>\n",
       "      <td>0.2610</td>\n",
       "      <td>0.000000</td>\n",
       "      <td>0.2670</td>\n",
       "      <td>0.628</td>\n",
       "      <td>87.891</td>\n",
       "      <td>5D87MkcNRiZ4AsVMwxRrC1</td>\n",
       "      <td>211766</td>\n",
       "      <td>4</td>\n",
       "    </tr>\n",
       "    <tr>\n",
       "      <th>3</th>\n",
       "      <td>0.726</td>\n",
       "      <td>0.779</td>\n",
       "      <td>-7.057</td>\n",
       "      <td>0.0251</td>\n",
       "      <td>0.0178</td>\n",
       "      <td>0.001780</td>\n",
       "      <td>0.1040</td>\n",
       "      <td>0.841</td>\n",
       "      <td>109.133</td>\n",
       "      <td>0eRHyLCekRpdkuuFu237b7</td>\n",
       "      <td>212800</td>\n",
       "      <td>4</td>\n",
       "    </tr>\n",
       "    <tr>\n",
       "      <th>4</th>\n",
       "      <td>0.911</td>\n",
       "      <td>0.712</td>\n",
       "      <td>-5.105</td>\n",
       "      <td>0.0817</td>\n",
       "      <td>0.0901</td>\n",
       "      <td>0.000027</td>\n",
       "      <td>0.0933</td>\n",
       "      <td>0.425</td>\n",
       "      <td>92.005</td>\n",
       "      <td>6Sq7ltF9Qa7SNFBsV5Cogx</td>\n",
       "      <td>178567</td>\n",
       "      <td>4</td>\n",
       "    </tr>\n",
       "  </tbody>\n",
       "</table>\n",
       "</div>"
      ],
      "text/plain": [
       "   danceability  energy  loudness  speechiness  acousticness  \\\n",
       "0         0.440   0.317    -9.258       0.0531        0.8910   \n",
       "1         0.521   0.683    -6.240       0.5010        0.1590   \n",
       "2         0.544   0.792    -8.730       0.3430        0.2610   \n",
       "3         0.726   0.779    -7.057       0.0251        0.0178   \n",
       "4         0.911   0.712    -5.105       0.0817        0.0901   \n",
       "\n",
       "   instrumentalness  liveness  valence    tempo                      id  \\\n",
       "0          0.000005    0.1410    0.268  169.914  6xGruZOHLs39ZbVccQTuPZ   \n",
       "1          0.000000    0.1870    0.737  139.439  4eHkG6yWQ4pD0zqVkV0R5a   \n",
       "2          0.000000    0.2670    0.628   87.891  5D87MkcNRiZ4AsVMwxRrC1   \n",
       "3          0.001780    0.1040    0.841  109.133  0eRHyLCekRpdkuuFu237b7   \n",
       "4          0.000027    0.0933    0.425   92.005  6Sq7ltF9Qa7SNFBsV5Cogx   \n",
       "\n",
       "   duration_ms time_signature  \n",
       "0       233456              3  \n",
       "1       161808              3  \n",
       "2       211766              4  \n",
       "3       212800              4  \n",
       "4       178567              4  "
      ]
     },
     "execution_count": 29,
     "metadata": {},
     "output_type": "execute_result"
    }
   ],
   "source": [
    "tf_df.head()"
   ]
  },
  {
   "cell_type": "code",
   "execution_count": 23,
   "metadata": {},
   "outputs": [],
   "source": [
    "track_df.to_csv('track_df3.csv')"
   ]
  },
  {
   "cell_type": "code",
   "execution_count": 24,
   "metadata": {},
   "outputs": [
    {
     "name": "stdout",
     "output_type": "stream",
     "text": [
      "<class 'pandas.core.frame.DataFrame'>\n",
      "RangeIndex: 1000 entries, 0 to 999\n",
      "Data columns (total 8 columns):\n",
      " #   Column             Non-Null Count  Dtype \n",
      "---  ------             --------------  ----- \n",
      " 0   artist_name        1000 non-null   object\n",
      " 1   track_name         1000 non-null   object\n",
      " 2   track_id           1000 non-null   object\n",
      " 3   track_popularity   1000 non-null   int64 \n",
      " 4   artist_id          1000 non-null   object\n",
      " 5   artist_popularity  1000 non-null   int64 \n",
      " 6   artist_genres      1000 non-null   object\n",
      " 7   artist_followers   1000 non-null   int64 \n",
      "dtypes: int64(3), object(5)\n",
      "memory usage: 62.6+ KB\n",
      "None\n",
      "<class 'pandas.core.frame.DataFrame'>\n",
      "RangeIndex: 998 entries, 0 to 997\n",
      "Data columns (total 12 columns):\n",
      " #   Column            Non-Null Count  Dtype  \n",
      "---  ------            --------------  -----  \n",
      " 0   danceability      998 non-null    float64\n",
      " 1   energy            998 non-null    float64\n",
      " 2   loudness          998 non-null    float64\n",
      " 3   speechiness       998 non-null    float64\n",
      " 4   acousticness      998 non-null    float64\n",
      " 5   instrumentalness  998 non-null    float64\n",
      " 6   liveness          998 non-null    float64\n",
      " 7   valence           998 non-null    float64\n",
      " 8   tempo             998 non-null    float64\n",
      " 9   id                998 non-null    object \n",
      " 10  duration_ms       998 non-null    int64  \n",
      " 11  time_signature    998 non-null    object \n",
      "dtypes: float64(9), int64(1), object(2)\n",
      "memory usage: 93.7+ KB\n",
      "None\n"
     ]
    }
   ],
   "source": [
    "tf_df['duration_ms'] = pd.to_numeric(tf_df['duration_ms'])\n",
    "#cols_to_drop1 = ['track_id','artist_id']\n",
    "cols_to_drop2 = ['key','mode','type', 'uri','track_href','analysis_url']\n",
    "#track_df = track_df.drop(columns=cols_to_drop1)\n",
    "tf_df = tf_df.drop(columns=cols_to_drop2)\n",
    "print(track_df.info())\n",
    "print(tf_df.info())"
   ]
  },
  {
   "cell_type": "code",
   "execution_count": 25,
   "metadata": {},
   "outputs": [
    {
     "name": "stdout",
     "output_type": "stream",
     "text": [
      "<class 'pandas.core.frame.DataFrame'>\n",
      "RangeIndex: 1000 entries, 0 to 999\n",
      "Data columns (total 8 columns):\n",
      " #   Column             Non-Null Count  Dtype \n",
      "---  ------             --------------  ----- \n",
      " 0   artist_name        1000 non-null   string\n",
      " 1   track_name         1000 non-null   string\n",
      " 2   track_id           1000 non-null   string\n",
      " 3   track_popularity   1000 non-null   int64 \n",
      " 4   artist_id          1000 non-null   string\n",
      " 5   artist_popularity  1000 non-null   int64 \n",
      " 6   artist_genres      1000 non-null   object\n",
      " 7   artist_followers   1000 non-null   int64 \n",
      "dtypes: int64(3), object(1), string(4)\n",
      "memory usage: 62.6+ KB\n",
      "None\n",
      "<class 'pandas.core.frame.DataFrame'>\n",
      "RangeIndex: 998 entries, 0 to 997\n",
      "Data columns (total 12 columns):\n",
      " #   Column            Non-Null Count  Dtype   \n",
      "---  ------            --------------  -----   \n",
      " 0   danceability      998 non-null    float64 \n",
      " 1   energy            998 non-null    float64 \n",
      " 2   loudness          998 non-null    float64 \n",
      " 3   speechiness       998 non-null    float64 \n",
      " 4   acousticness      998 non-null    float64 \n",
      " 5   instrumentalness  998 non-null    float64 \n",
      " 6   liveness          998 non-null    float64 \n",
      " 7   valence           998 non-null    float64 \n",
      " 8   tempo             998 non-null    float64 \n",
      " 9   id                998 non-null    object  \n",
      " 10  duration_ms       998 non-null    int64   \n",
      " 11  time_signature    998 non-null    category\n",
      "dtypes: category(1), float64(9), int64(1), object(1)\n",
      "memory usage: 87.1+ KB\n",
      "None\n"
     ]
    }
   ],
   "source": [
    "track_df['artist_name'] = track_df['artist_name'].astype(\"string\")\n",
    "track_df['track_name'] = track_df['track_name'].astype(\"string\")\n",
    "track_df['track_id'] = track_df['track_id'].astype(\"string\")\n",
    "track_df['artist_id'] = track_df['artist_id'].astype(\"string\")\n",
    "tf_df['instrumentalness'] = pd.to_numeric(tf_df['instrumentalness'])\n",
    "tf_df['time_signature'] = tf_df['time_signature'].astype(\"category\")\n",
    "print(track_df.info())\n",
    "print(tf_df.info())"
   ]
  },
  {
   "cell_type": "code",
   "execution_count": 26,
   "metadata": {},
   "outputs": [],
   "source": [
    "track_df.to_csv('tracks.csv')"
   ]
  },
  {
   "cell_type": "code",
   "execution_count": 30,
   "metadata": {},
   "outputs": [],
   "source": [
    "tf_df.to_csv('tf.csv')"
   ]
  },
  {
   "cell_type": "code",
   "execution_count": 31,
   "metadata": {},
   "outputs": [
    {
     "name": "stdout",
     "output_type": "stream",
     "text": [
      "/Users/mfaundez/mia/2022/visualizacion/proyecto_final\n"
     ]
    }
   ],
   "source": [
    "!pwd"
   ]
  },
  {
   "cell_type": "code",
   "execution_count": null,
   "metadata": {},
   "outputs": [],
   "source": []
  }
 ],
 "metadata": {
  "kernelspec": {
   "display_name": "Python 3.9.13 ('venv': venv)",
   "language": "python",
   "name": "python3"
  },
  "language_info": {
   "codemirror_mode": {
    "name": "ipython",
    "version": 3
   },
   "file_extension": ".py",
   "mimetype": "text/x-python",
   "name": "python",
   "nbconvert_exporter": "python",
   "pygments_lexer": "ipython3",
   "version": "3.9.13"
  },
  "orig_nbformat": 4,
  "vscode": {
   "interpreter": {
    "hash": "5652a961a92354a3ecb643ee757ac30c5c21f6b4a7ba8af94abd5bbe68763e12"
   }
  }
 },
 "nbformat": 4,
 "nbformat_minor": 2
}
